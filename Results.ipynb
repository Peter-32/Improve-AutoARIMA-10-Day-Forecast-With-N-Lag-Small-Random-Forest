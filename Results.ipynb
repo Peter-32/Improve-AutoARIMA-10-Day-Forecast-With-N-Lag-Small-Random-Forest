{
 "cells": [
  {
   "cell_type": "markdown",
   "metadata": {},
   "source": [
    "# Question\n",
    "\n",
    "Is the RF with 8 lags and a small number of components a better model than AutoARIMA for one dataset?"
   ]
  },
  {
   "cell_type": "markdown",
   "metadata": {},
   "source": [
    "# Hypothesis\n",
    "\n",
    "RF will have the better score."
   ]
  },
  {
   "cell_type": "markdown",
   "metadata": {},
   "source": [
    "# Conclusion\n",
    "\n",
    "The hypothesis that RF will have a better score was correct.  It outperformed ARIMA drastically on the test set.  Random Forest has an RMSE of 4.04 and ARIMA has an RMSE of 7.64."
   ]
  },
  {
   "cell_type": "markdown",
   "metadata": {},
   "source": [
    "# Experiment"
   ]
  },
  {
   "cell_type": "markdown",
   "metadata": {},
   "source": [
    "### Prepare Data\n",
    "\n",
    "I read in the data and do a train test split."
   ]
  },
  {
   "cell_type": "code",
   "execution_count": 7,
   "metadata": {},
   "outputs": [],
   "source": [
    "def get_train_test_split(df, days_in_test_set):\n",
    "    days_in_test_set = days_in_test_set\n",
    "    split_point = len(df) - days_in_test_set\n",
    "    train, test = df[0:split_point], df[split_point:]\n",
    "    return train, test\n",
    "\n",
    "\n",
    "df = pd.read_csv(\n",
    "    \"/Users/peterjmyers/Work/Spot-Check-RF-Vs-AutoARIMA/source_data/daily-total-female-births-in-cal.csv\")\n",
    "df = df.iloc[0:365]\n",
    "df.columns = ['Date', 'x']\n",
    "df['Date'] = pd.to_datetime(df['Date'])\n",
    "df.index = df['Date']\n",
    "df.drop(['Date'], axis=1, inplace=True)\n",
    "days_in_test_set = 10\n",
    "train, test = get_train_test_split(df, days_in_test_set)"
   ]
  },
  {
   "cell_type": "markdown",
   "metadata": {},
   "source": [
    "### Improve Algorithm\n",
    "\n",
    "I call this section improve algorithm because this project is an experiment to see if using 10 random forest models improves AutoARIMA.\n",
    "\n",
    "I define functions for auto arima prediction and random forest prediction.  Auto arima works by using the pyramid autoarima function.  Each random forest model forecasts a single day ahead from the last day of the training dataset; one model predicts one day ahead, another two days ahead, etc.\n",
    "\n",
    "I run the two functions and print the rmse scores.  Then I plot the results."
   ]
  },
  {
   "cell_type": "code",
   "execution_count": 8,
   "metadata": {},
   "outputs": [
    {
     "name": "stdout",
     "output_type": "stream",
     "text": [
      "Fit ARIMA: order=(1, 1, 1) seasonal_order=(0, 1, 1, 12); AIC=2359.801, BIC=2378.975, Fit time=3.739 seconds\n",
      "Fit ARIMA: order=(0, 1, 0) seasonal_order=(0, 1, 0, 12); AIC=2750.744, BIC=2758.413, Fit time=0.036 seconds\n",
      "Fit ARIMA: order=(1, 1, 0) seasonal_order=(1, 1, 0, 12); AIC=2562.645, BIC=2577.984, Fit time=0.629 seconds\n",
      "Fit ARIMA: order=(0, 1, 1) seasonal_order=(0, 1, 1, 12); AIC=2362.493, BIC=2377.832, Fit time=2.473 seconds\n",
      "Fit ARIMA: order=(1, 1, 1) seasonal_order=(1, 1, 1, 12); AIC=2356.672, BIC=2379.681, Fit time=4.203 seconds\n",
      "Fit ARIMA: order=(1, 1, 1) seasonal_order=(1, 1, 0, 12); AIC=2460.522, BIC=2479.696, Fit time=2.652 seconds\n",
      "Fit ARIMA: order=(1, 1, 1) seasonal_order=(1, 1, 2, 12); AIC=2358.761, BIC=2385.605, Fit time=8.436 seconds\n",
      "Fit ARIMA: order=(1, 1, 1) seasonal_order=(0, 1, 0, 12); AIC=2580.349, BIC=2595.689, Fit time=0.576 seconds\n",
      "Fit ARIMA: order=(1, 1, 1) seasonal_order=(2, 1, 2, 12); AIC=2360.901, BIC=2391.580, Fit time=9.536 seconds\n",
      "Fit ARIMA: order=(0, 1, 1) seasonal_order=(1, 1, 1, 12); AIC=2358.081, BIC=2377.255, Fit time=2.323 seconds\n",
      "Fit ARIMA: order=(2, 1, 1) seasonal_order=(1, 1, 1, 12); AIC=2358.213, BIC=2385.057, Fit time=4.890 seconds\n",
      "Fit ARIMA: order=(1, 1, 0) seasonal_order=(1, 1, 1, 12); AIC=2453.121, BIC=2472.295, Fit time=1.977 seconds\n",
      "Fit ARIMA: order=(1, 1, 2) seasonal_order=(1, 1, 1, 12); AIC=nan, BIC=nan, Fit time=nan seconds\n",
      "Fit ARIMA: order=(0, 1, 0) seasonal_order=(1, 1, 1, 12); AIC=2533.683, BIC=2549.022, Fit time=1.257 seconds\n",
      "Fit ARIMA: order=(2, 1, 2) seasonal_order=(1, 1, 1, 12); AIC=nan, BIC=nan, Fit time=nan seconds\n",
      "Fit ARIMA: order=(1, 1, 1) seasonal_order=(2, 1, 1, 12); AIC=2358.682, BIC=2385.526, Fit time=7.648 seconds\n",
      "Total fit time: 50.381 seconds\n",
      "2356.67191345\n"
     ]
    },
    {
     "name": "stderr",
     "output_type": "stream",
     "text": [
      "/Users/peterjmyers/Work/commons/venv/lib/python3.6/site-packages/ipykernel_launcher.py:25: SettingWithCopyWarning: \n",
      "A value is trying to be set on a copy of a slice from a DataFrame.\n",
      "Try using .loc[row_indexer,col_indexer] = value instead\n",
      "\n",
      "See the caveats in the documentation: http://pandas.pydata.org/pandas-docs/stable/indexing.html#indexing-view-versus-copy\n",
      "/Users/peterjmyers/Work/commons/venv/lib/python3.6/site-packages/sklearn/utils/validation.py:395: DeprecationWarning: Passing 1d arrays as data is deprecated in 0.17 and will raise ValueError in 0.19. Reshape your data either using X.reshape(-1, 1) if your data has a single feature or X.reshape(1, -1) if it contains a single sample.\n",
      "  DeprecationWarning)\n",
      "/Users/peterjmyers/Work/commons/venv/lib/python3.6/site-packages/sklearn/utils/validation.py:395: DeprecationWarning: Passing 1d arrays as data is deprecated in 0.17 and will raise ValueError in 0.19. Reshape your data either using X.reshape(-1, 1) if your data has a single feature or X.reshape(1, -1) if it contains a single sample.\n",
      "  DeprecationWarning)\n",
      "/Users/peterjmyers/Work/commons/venv/lib/python3.6/site-packages/sklearn/utils/validation.py:395: DeprecationWarning: Passing 1d arrays as data is deprecated in 0.17 and will raise ValueError in 0.19. Reshape your data either using X.reshape(-1, 1) if your data has a single feature or X.reshape(1, -1) if it contains a single sample.\n",
      "  DeprecationWarning)\n",
      "/Users/peterjmyers/Work/commons/venv/lib/python3.6/site-packages/sklearn/utils/validation.py:395: DeprecationWarning: Passing 1d arrays as data is deprecated in 0.17 and will raise ValueError in 0.19. Reshape your data either using X.reshape(-1, 1) if your data has a single feature or X.reshape(1, -1) if it contains a single sample.\n",
      "  DeprecationWarning)\n",
      "/Users/peterjmyers/Work/commons/venv/lib/python3.6/site-packages/sklearn/utils/validation.py:395: DeprecationWarning: Passing 1d arrays as data is deprecated in 0.17 and will raise ValueError in 0.19. Reshape your data either using X.reshape(-1, 1) if your data has a single feature or X.reshape(1, -1) if it contains a single sample.\n",
      "  DeprecationWarning)\n",
      "/Users/peterjmyers/Work/commons/venv/lib/python3.6/site-packages/sklearn/utils/validation.py:395: DeprecationWarning: Passing 1d arrays as data is deprecated in 0.17 and will raise ValueError in 0.19. Reshape your data either using X.reshape(-1, 1) if your data has a single feature or X.reshape(1, -1) if it contains a single sample.\n",
      "  DeprecationWarning)\n",
      "/Users/peterjmyers/Work/commons/venv/lib/python3.6/site-packages/sklearn/utils/validation.py:395: DeprecationWarning: Passing 1d arrays as data is deprecated in 0.17 and will raise ValueError in 0.19. Reshape your data either using X.reshape(-1, 1) if your data has a single feature or X.reshape(1, -1) if it contains a single sample.\n",
      "  DeprecationWarning)\n",
      "/Users/peterjmyers/Work/commons/venv/lib/python3.6/site-packages/sklearn/utils/validation.py:395: DeprecationWarning: Passing 1d arrays as data is deprecated in 0.17 and will raise ValueError in 0.19. Reshape your data either using X.reshape(-1, 1) if your data has a single feature or X.reshape(1, -1) if it contains a single sample.\n",
      "  DeprecationWarning)\n"
     ]
    },
    {
     "name": "stdout",
     "output_type": "stream",
     "text": [
      "The AutoARIMA rmse is 7.635898530798698\n",
      "The Random Forest rmse is 4.036077787087847\n"
     ]
    },
    {
     "name": "stderr",
     "output_type": "stream",
     "text": [
      "/Users/peterjmyers/Work/commons/venv/lib/python3.6/site-packages/sklearn/utils/validation.py:395: DeprecationWarning: Passing 1d arrays as data is deprecated in 0.17 and will raise ValueError in 0.19. Reshape your data either using X.reshape(-1, 1) if your data has a single feature or X.reshape(1, -1) if it contains a single sample.\n",
      "  DeprecationWarning)\n",
      "/Users/peterjmyers/Work/commons/venv/lib/python3.6/site-packages/sklearn/utils/validation.py:395: DeprecationWarning: Passing 1d arrays as data is deprecated in 0.17 and will raise ValueError in 0.19. Reshape your data either using X.reshape(-1, 1) if your data has a single feature or X.reshape(1, -1) if it contains a single sample.\n",
      "  DeprecationWarning)\n"
     ]
    },
    {
     "data": {
      "text/plain": [
       "<matplotlib.legend.Legend at 0x130745390>"
      ]
     },
     "execution_count": 8,
     "metadata": {},
     "output_type": "execute_result"
    },
    {
     "data": {
      "image/png": "[encoded data removed]",
      "text/plain": [
       "<matplotlib.figure.Figure at 0x12371fa90>"
      ]
     },
     "metadata": {},
     "output_type": "display_data"
    }
   ],
   "source": [
    "def rmse(y_pred, y_true):\n",
    "    return np.sqrt(mean_squared_error(y_pred, y_true))\n",
    "\n",
    "\n",
    "def auto_arima_prediction(train, days_in_test_set):\n",
    "    stepwise_model = auto_arima(train, start_p=1, start_q=1,\n",
    "                                max_p=3, max_q=3, m=12,\n",
    "                                start_P=0, seasonal=True,\n",
    "                                d=1, D=1, trace=True,\n",
    "                                error_action='ignore',\n",
    "                                suppress_warnings=True,\n",
    "                                stepwise=True)\n",
    "    print(stepwise_model.aic())\n",
    "    stepwise_model.fit(train)\n",
    "    arima_y_pred = stepwise_model.predict(n_periods=days_in_test_set)\n",
    "    return arima_y_pred\n",
    "\n",
    "\n",
    "def random_forest_prediction(df, days_in_test_set):\n",
    "    for i in range(1, 9):\n",
    "        df['lag_{}'.format(i)] = df['x'].shift(i)\n",
    "    df = df.dropna()\n",
    "    for forecast_days_ahead in range(1, 11):\n",
    "        df['y_{}'.format(forecast_days_ahead)\n",
    "           ] = df['x'].shift(-1 * forecast_days_ahead)\n",
    "    train, test = get_train_test_split(df, days_in_test_set)\n",
    "\n",
    "    train_X = train[['x', 'lag_1', 'lag_2', 'lag_3',\n",
    "                     'lag_4', 'lag_5', 'lag_6', 'lag_7', 'lag_8']]\n",
    "    test_X = train.iloc[-1][['x', 'lag_1', 'lag_2', 'lag_3',\n",
    "                             'lag_4', 'lag_5', 'lag_6', 'lag_7', 'lag_8']]\n",
    "    test_X\n",
    "    rf_pred_y = []\n",
    "    for days_ahead in range(1, 11):\n",
    "        model = ensemble.RandomForestRegressor(\n",
    "            n_estimators=50, max_features=\"log2\", min_samples_leaf=5, criterion=\"mse\", bootstrap=True, random_state=2)\n",
    "        train_y = train['y_{}'.format(days_ahead)]\n",
    "        model = model.fit(train_X, train_y)\n",
    "        rf_pred_y.append(model.predict(test_X))\n",
    "    rf_pred_y = np.array(rf_pred_y)\n",
    "    return rf_pred_y\n",
    "\n",
    "\n",
    "arima_y_pred = auto_arima_prediction(train, days_in_test_set)\n",
    "rf_pred_y = random_forest_prediction(df, days_in_test_set)\n",
    "\n",
    "print(\"The AutoARIMA rmse is {}\".format(rmse(test['x'], arima_y_pred)))\n",
    "print(\"The Random Forest rmse is {}\".format(rmse(test['x'], rf_pred_y)))\n",
    "\n",
    "fig = plt.figure()\n",
    "ax = fig.add_subplot(1, 1, 1)\n",
    "ax.plot(test['x'].values)\n",
    "ax.plot(arima_y_pred)\n",
    "ax.plot(rf_pred_y)\n",
    "\n",
    "ax.legend(['y_test', 'arima_y_pred', 'rf_pred_y'],\n",
    "          loc='lower left')"
   ]
  },
  {
   "cell_type": "markdown",
   "metadata": {},
   "source": [
    "### Imports"
   ]
  },
  {
   "cell_type": "code",
   "execution_count": 3,
   "metadata": {},
   "outputs": [],
   "source": [
    "import pandas as pd\n",
    "import numpy as np\n",
    "import matplotlib as mpl\n",
    "import matplotlib.pyplot as plt\n",
    "from pandasql import sqldf\n",
    "from statsmodels.tsa.arima_model import ARIMA\n",
    "import statsmodels.api as sm\n",
    "from pyramid.arima import auto_arima\n",
    "from sklearn.metrics import mean_squared_error\n",
    "from sklearn import ensemble\n",
    "def q(q): return sqldf(q, globals())"
   ]
  }
 ],
 "metadata": {
  "kernelspec": {
   "display_name": "commons",
   "language": "python",
   "name": "commons"
  },
  "language_info": {
   "codemirror_mode": {
    "name": "ipython",
    "version": 3
   },
   "file_extension": ".py",
   "mimetype": "text/x-python",
   "name": "python",
   "nbconvert_exporter": "python",
   "pygments_lexer": "ipython3",
   "version": "3.6.1"
  }
 },
 "nbformat": 4,
 "nbformat_minor": 2
}
