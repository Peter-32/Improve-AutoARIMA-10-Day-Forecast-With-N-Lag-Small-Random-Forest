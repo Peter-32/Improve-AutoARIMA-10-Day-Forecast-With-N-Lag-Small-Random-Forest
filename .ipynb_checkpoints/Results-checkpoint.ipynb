{
 "cells": [
  {
   "cell_type": "markdown",
   "metadata": {},
   "source": [
    "### Prepare Data\n",
    "\n",
    "I read in the data and do a train test split."
   ]
  },
  {
   "cell_type": "code",
   "execution_count": null,
   "metadata": {},
   "outputs": [],
   "source": [
    "def get_train_test_split(df, days_in_test_set):\n",
    "    days_in_test_set = days_in_test_set\n",
    "    split_point = len(df) - days_in_test_set\n",
    "    train, test = df[0:split_point], df[split_point:]\n",
    "    return train, test\n",
    "\n",
    "\n",
    "df = pd.read_csv(\n",
    "    \"/Users/peterjmyers/Work/Spot-Check-RF-Vs-AutoARIMA/source_data/daily-total-female-births-in-cal.csv\")\n",
    "df = df.iloc[0:365]\n",
    "df.columns = ['Date', 'x']\n",
    "df['Date'] = pd.to_datetime(df['Date'])\n",
    "df.index = df['Date']\n",
    "df.drop(['Date'], axis=1, inplace=True)\n",
    "days_in_test_set = 10\n",
    "train, test = get_train_test_split(df, days_in_test_set)\n",
    "train, test"
   ]
  },
  {
   "cell_type": "markdown",
   "metadata": {},
   "source": [
    "### Improve Algorithm\n",
    "\n",
    "I call this section improve algorithm because this project is an experiment to see if using 10 random forest models improves AutoARIMA.\n",
    "\n",
    "I define functions for auto arima prediction and random forest prediction."
   ]
  },
  {
   "cell_type": "code",
   "execution_count": null,
   "metadata": {},
   "outputs": [],
   "source": [
    "def rmse(y_pred, y_true):\n",
    "    return np.sqrt(mean_squared_error(y_pred, y_true))\n",
    "\n",
    "\n",
    "def auto_arima_prediction(train, days_in_test_set):\n",
    "    stepwise_model = auto_arima(train, start_p=1, start_q=1,\n",
    "                                max_p=3, max_q=3, m=12,\n",
    "                                start_P=0, seasonal=True,\n",
    "                                d=1, D=1, trace=True,\n",
    "                                error_action='ignore',\n",
    "                                suppress_warnings=True,\n",
    "                                stepwise=True)\n",
    "    print(stepwise_model.aic())\n",
    "    stepwise_model.fit(train)\n",
    "    arima_y_pred = stepwise_model.predict(n_periods=days_in_test_set)\n",
    "    return arima_y_pred\n",
    "\n",
    "\n",
    "def random_forest_prediction(df, days_in_test_set):\n",
    "    for i in range(1, 9):\n",
    "        df['lag_{}'.format(i)] = df['x'].shift(i)\n",
    "    df = df.dropna()\n",
    "    for forecast_days_ahead in range(1, 11):\n",
    "        df['y_{}'.format(forecast_days_ahead)\n",
    "           ] = df['x'].shift(-1 * forecast_days_ahead)\n",
    "    train, test = get_train_test_split(df, days_in_test_set)\n",
    "\n",
    "    train_X = train[['x', 'lag_1', 'lag_2', 'lag_3',\n",
    "                     'lag_4', 'lag_5', 'lag_6', 'lag_7', 'lag_8']]\n",
    "    test_X = train.iloc[-1][['x', 'lag_1', 'lag_2', 'lag_3',\n",
    "                             'lag_4', 'lag_5', 'lag_6', 'lag_7', 'lag_8']]\n",
    "    test_X\n",
    "    rf_pred_y = []\n",
    "    for days_ahead in range(1, 11):\n",
    "        model = ensemble.RandomForestRegressor(\n",
    "            n_estimators=50, max_features=\"log2\", min_samples_leaf=5, criterion=\"mse\", bootstrap=True, random_state=2)\n",
    "        train_y = train['y_{}'.format(days_ahead)]\n",
    "        model = model.fit(train_X, train_y)\n",
    "        rf_pred_y.append(model.predict(test_X))\n",
    "    rf_pred_y = np.array(rf_pred_y)\n",
    "    return rf_pred_y\n",
    "\n",
    "\n",
    "arima_y_pred = auto_arima_prediction(train, days_in_test_set)\n",
    "rf_pred_y = random_forest_prediction(df, days_in_test_set)\n",
    "\n",
    "print(\"The AutoARIMA rmse is {}\".format(rmse(test['x'], arima_y_pred)))\n",
    "print(\"The Random Forest rmse is {}\".format(rmse(test['x'], rf_pred_y)))\n",
    "\n",
    "fig = plt.figure()\n",
    "ax = fig.add_subplot(1, 1, 1)\n",
    "ax.plot(test['x'].values)\n",
    "ax.plot(arima_y_pred)\n",
    "ax.plot(rf_pred_y)\n",
    "\n",
    "ax.legend(['y_test', 'arima_y_pred', 'rf_pred_y'],\n",
    "          loc='lower left')"
   ]
  },
  {
   "cell_type": "code",
   "execution_count": null,
   "metadata": {},
   "outputs": [],
   "source": []
  },
  {
   "cell_type": "code",
   "execution_count": null,
   "metadata": {},
   "outputs": [],
   "source": []
  },
  {
   "cell_type": "code",
   "execution_count": null,
   "metadata": {},
   "outputs": [],
   "source": []
  },
  {
   "cell_type": "code",
   "execution_count": null,
   "metadata": {},
   "outputs": [],
   "source": []
  },
  {
   "cell_type": "markdown",
   "metadata": {},
   "source": [
    "### Imports"
   ]
  },
  {
   "cell_type": "code",
   "execution_count": null,
   "metadata": {},
   "outputs": [],
   "source": [
    "import pandas as pd\n",
    "import numpy as np\n",
    "import matplotlib as mpl\n",
    "import matplotlib.pyplot as plt\n",
    "from pandasql import sqldf\n",
    "from statsmodels.tsa.arima_model import ARIMA\n",
    "import statsmodels.api as sm\n",
    "from pyramid.arima import auto_arima\n",
    "from sklearn.metrics import mean_squared_error\n",
    "from sklearn import ensemble\n",
    "def q(q): return sqldf(q, globals())"
   ]
  }
 ],
 "metadata": {
  "kernelspec": {
   "display_name": "commons",
   "language": "python",
   "name": "commons"
  },
  "language_info": {
   "codemirror_mode": {
    "name": "ipython",
    "version": 3
   },
   "file_extension": ".py",
   "mimetype": "text/x-python",
   "name": "python",
   "nbconvert_exporter": "python",
   "pygments_lexer": "ipython3",
   "version": "3.6.1"
  }
 },
 "nbformat": 4,
 "nbformat_minor": 2
}
